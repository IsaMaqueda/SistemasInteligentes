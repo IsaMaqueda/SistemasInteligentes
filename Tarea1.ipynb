{
  "nbformat": 4,
  "nbformat_minor": 0,
  "metadata": {
    "colab": {
      "name": "Tarea1.ipynb",
      "provenance": [],
      "collapsed_sections": [],
      "authorship_tag": "ABX9TyPEBlHC4ePyLKk+AzpPh1jf",
      "include_colab_link": true
    },
    "kernelspec": {
      "name": "python3",
      "display_name": "Python 3"
    },
    "language_info": {
      "name": "python"
    },
    "accelerator": "GPU"
  },
  "cells": [
    {
      "cell_type": "markdown",
      "metadata": {
        "id": "view-in-github",
        "colab_type": "text"
      },
      "source": [
        "<a href=\"https://colab.research.google.com/github/IsaMaqueda/SistemasInteligentes/blob/main/Tarea1.ipynb\" target=\"_parent\"><img src=\"https://colab.research.google.com/assets/colab-badge.svg\" alt=\"Open In Colab\"/></a>"
      ]
    },
    {
      "cell_type": "code",
      "metadata": {
        "id": "7LCwa3rujBJN",
        "colab": {
          "base_uri": "https://localhost:8080/"
        },
        "outputId": "a11b4928-a760-495e-86a6-4cc9ed353776"
      },
      "source": [
        "!git clone https://github.com/IsaMaqueda/SistemasInteligentes.git"
      ],
      "execution_count": 13,
      "outputs": [
        {
          "output_type": "stream",
          "text": [
            "Cloning into 'SistemasInteligentes'...\n",
            "remote: Enumerating objects: 14, done.\u001b[K\n",
            "remote: Counting objects: 100% (14/14), done.\u001b[K\n",
            "remote: Compressing objects: 100% (12/12), done.\u001b[K\n",
            "remote: Total 14 (delta 2), reused 0 (delta 0), pack-reused 0\u001b[K\n",
            "Unpacking objects: 100% (14/14), done.\n"
          ],
          "name": "stdout"
        }
      ]
    },
    {
      "cell_type": "code",
      "metadata": {
        "colab": {
          "base_uri": "https://localhost:8080/"
        },
        "id": "M416yHHzdnvi",
        "outputId": "6a12b70c-bca2-47da-de22-c6ee9f5e6581"
      },
      "source": [
        "!ls SistemasInteligentes/"
      ],
      "execution_count": 14,
      "outputs": [
        {
          "output_type": "stream",
          "text": [
            " README.md\t\t  TestingDS.csv    TrainingFeatures.csv\n",
            "'Sample Submission.csv'   TrainingDS.csv\n"
          ],
          "name": "stdout"
        }
      ]
    },
    {
      "cell_type": "code",
      "metadata": {
        "colab": {
          "base_uri": "https://localhost:8080/"
        },
        "id": "tjXMOlt8xSvY",
        "outputId": "aaf6020f-c1cd-4f3f-bb44-13d3c5f5ce38"
      },
      "source": [
        "pip install paralleldots"
      ],
      "execution_count": 17,
      "outputs": [
        {
          "output_type": "stream",
          "text": [
            "Collecting paralleldots\n",
            "  Downloading ParallelDots-3.2.14-py3-none-any.whl (9.4 kB)\n",
            "Requirement already satisfied: requests in /usr/local/lib/python3.7/dist-packages (from paralleldots) (2.23.0)\n",
            "Requirement already satisfied: chardet<4,>=3.0.2 in /usr/local/lib/python3.7/dist-packages (from requests->paralleldots) (3.0.4)\n",
            "Requirement already satisfied: idna<3,>=2.5 in /usr/local/lib/python3.7/dist-packages (from requests->paralleldots) (2.10)\n",
            "Requirement already satisfied: certifi>=2017.4.17 in /usr/local/lib/python3.7/dist-packages (from requests->paralleldots) (2021.5.30)\n",
            "Requirement already satisfied: urllib3!=1.25.0,!=1.25.1,<1.26,>=1.21.1 in /usr/local/lib/python3.7/dist-packages (from requests->paralleldots) (1.24.3)\n",
            "Installing collected packages: paralleldots\n",
            "Successfully installed paralleldots-3.2.14\n"
          ],
          "name": "stdout"
        }
      ]
    },
    {
      "cell_type": "code",
      "metadata": {
        "colab": {
          "base_uri": "https://localhost:8080/"
        },
        "id": "P4lHaCjSxfB4",
        "outputId": "c5cadc5f-7ffd-4afe-c496-4af1703cd9bf"
      },
      "source": [
        "from paralleldots import set_api_key, get_api_key\n",
        "\n",
        "set_api_key( \"wKCcnrZxV0ioE9HMNIyKO1PG7se7xCaRvGFuZaF1qBg\" )\n",
        "api_key = get_api_key()\n",
        "\n",
        "print(api_key)"
      ],
      "execution_count": 20,
      "outputs": [
        {
          "output_type": "stream",
          "text": [
            "wKCcnrZxV0ioE9HMNIyKO1PG7se7xCaRvGFuZaF1qBg\n"
          ],
          "name": "stdout"
        }
      ]
    },
    {
      "cell_type": "code",
      "metadata": {
        "id": "nhCgwbyndzF0"
      },
      "source": [
        "import numpy as np \n",
        "import pandas as pd\n",
        "import paralleldots as dots\n",
        "import json"
      ],
      "execution_count": 27,
      "outputs": []
    },
    {
      "cell_type": "code",
      "metadata": {
        "colab": {
          "base_uri": "https://localhost:8080/"
        },
        "id": "2_GxqxKPds4T",
        "outputId": "ecc052e9-e6e2-4d64-9798-125e80c7c742"
      },
      "source": [
        "def leerArchivo():\n",
        "  filein = 'SistemasInteligentes/TrainingDS.csv'\n",
        "  train_data = pd.read_csv(filein) \n",
        "  return train_data\n",
        "\n",
        "train_data = leerArchivo()\n",
        "\n",
        "print(train_data.shape)\n",
        "print(train_data.info())\n",
        "print()\n",
        "print(train_data['Text'])\n",
        "print(train_data['Text'][0])\n",
        "print()\n",
        "print(train_data)\n",
        "\n"
      ],
      "execution_count": 50,
      "outputs": [
        {
          "output_type": "stream",
          "text": [
            "(1500, 3)\n",
            "<class 'pandas.core.frame.DataFrame'>\n",
            "RangeIndex: 1500 entries, 0 to 1499\n",
            "Data columns (total 3 columns):\n",
            " #   Column  Non-Null Count  Dtype \n",
            "---  ------  --------------  ----- \n",
            " 0   ID      1500 non-null   int64 \n",
            " 1   Text    1500 non-null   object\n",
            " 2   Class   1500 non-null   int64 \n",
            "dtypes: int64(2), object(1)\n",
            "memory usage: 35.3+ KB\n",
            "None\n",
            "\n",
            "0       Trump supporters needed to say the 4 Democrats...\n",
            "1       Send them back!!Why the hell are they even her...\n",
            "2       Yeah...Im wondering if send them back works fo...\n",
            "3       I know you realize you cant pretend that you d...\n",
            "4       Donny, you owe all people an apology for appla...\n",
            "                              ...                        \n",
            "1495    If a white person Migrated here and obvisouly ...\n",
            "1496    Talk about 1 Hes a dumbass who never texts bac...\n",
            "1497    Send them Back and Love it or leave it are two...\n",
            "1498    If Trump wants to end racist chants all he nee...\n",
            "1499    maybe they meant send her back to her home sta...\n",
            "Name: Text, Length: 1500, dtype: object\n",
            "Trump supporters needed to say the 4 Democrats socialist Squad are racist towards Trump America supporter. America has freedom of speech and it was a Trump hyper rally not a Socialist Democratic squad rally. The rally said send her back the one not migrants Socialist Democratic\n",
            "\n",
            "        ID                                               Text  Class\n",
            "0        1  Trump supporters needed to say the 4 Democrats...      0\n",
            "1        2  Send them back!!Why the hell are they even her...      1\n",
            "2        3  Yeah...Im wondering if send them back works fo...      1\n",
            "3        4  I know you realize you cant pretend that you d...      1\n",
            "4        5  Donny, you owe all people an apology for appla...      0\n",
            "...    ...                                                ...    ...\n",
            "1495  1496  If a white person Migrated here and obvisouly ...      1\n",
            "1496  1497  Talk about 1 Hes a dumbass who never texts bac...      0\n",
            "1497  1498  Send them Back and Love it or leave it are two...      1\n",
            "1498  1499  If Trump wants to end racist chants all he nee...      0\n",
            "1499  1500  maybe they meant send her back to her home sta...      1\n",
            "\n",
            "[1500 rows x 3 columns]\n"
          ],
          "name": "stdout"
        }
      ]
    },
    {
      "cell_type": "code",
      "metadata": {
        "colab": {
          "base_uri": "https://localhost:8080/"
        },
        "id": "sPrZXT5zjxtY",
        "outputId": "50baf127-a56f-4d8a-b5c4-f90b7de893ae"
      },
      "source": [
        "# Function to get the sentiment and emotional analysis of a text \n",
        "\n",
        "print(type(train_data['Text'][0]))\n",
        "\n",
        "def getAnalysis(text):\n",
        "  emotion = dots.emotion( text )\n",
        "  sentiment = dots.sentiment( text )\n",
        "  return emotion, sentiment\n"
      ],
      "execution_count": 37,
      "outputs": [
        {
          "output_type": "stream",
          "text": [
            "<class 'str'>\n"
          ],
          "name": "stdout"
        }
      ]
    },
    {
      "cell_type": "code",
      "metadata": {
        "colab": {
          "base_uri": "https://localhost:8080/"
        },
        "id": "17JKVABSzkVE",
        "outputId": "a75397c1-72e6-4454-acf7-f0f9342dfe11"
      },
      "source": [
        "# making sure the analysis works \n",
        "\n",
        "emotion, sentiment = getAnalysis(train_data['Text'][2])\n",
        "\n",
        "print(emotion['emotion'])\n",
        "print(sentiment['sentiment'])\n",
        "\n",
        "\n"
      ],
      "execution_count": 79,
      "outputs": [
        {
          "output_type": "stream",
          "text": [
            "{'Sad': 0.2222872244, 'Excited': 0.1260175658, 'Happy': 0.1453619836, 'Fear': 0.3828331069, 'Angry': 0.0829021877, 'Bored': 0.0405979317}\n",
            "{'negative': 0.18, 'neutral': 0.639, 'positive': 0.181}\n"
          ],
          "name": "stdout"
        }
      ]
    },
    {
      "cell_type": "code",
      "metadata": {
        "colab": {
          "base_uri": "https://localhost:8080/"
        },
        "id": "kTNUaF58FsI8",
        "outputId": "715a7cc7-ef90-4cf7-bce2-929496f94314"
      },
      "source": [
        "#get type of emotion and sentiment\n",
        "\n",
        "print(emotion['emotion'])\n",
        "print(sentiment['sentiment'])"
      ],
      "execution_count": 80,
      "outputs": [
        {
          "output_type": "stream",
          "text": [
            "{'Sad': 0.2222872244, 'Excited': 0.1260175658, 'Happy': 0.1453619836, 'Fear': 0.3828331069, 'Angry': 0.0829021877, 'Bored': 0.0405979317}\n",
            "{'negative': 0.18, 'neutral': 0.639, 'positive': 0.181}\n"
          ],
          "name": "stdout"
        }
      ]
    },
    {
      "cell_type": "code",
      "metadata": {
        "colab": {
          "base_uri": "https://localhost:8080/"
        },
        "id": "jQcaliyGA2Q5",
        "outputId": "d18383ed-f484-4bd0-bb25-1034c6b76265"
      },
      "source": [
        "# Function to merge the two dictionaries and the try to make sure it works \n",
        "\n",
        "def Merge(dict1, dict2) : \n",
        "  dict3 = dict1.copy()\n",
        "  dict3.update(dict2)\n",
        "  return dict3\n",
        "\n",
        "temp = Merge(emotion['emotion'], sentiment['sentiment'])\n",
        "print(temp)"
      ],
      "execution_count": 81,
      "outputs": [
        {
          "output_type": "stream",
          "text": [
            "{'Sad': 0.2222872244, 'Excited': 0.1260175658, 'Happy': 0.1453619836, 'Fear': 0.3828331069, 'Angry': 0.0829021877, 'Bored': 0.0405979317, 'negative': 0.18, 'neutral': 0.639, 'positive': 0.181}\n"
          ],
          "name": "stdout"
        }
      ]
    },
    {
      "cell_type": "code",
      "metadata": {
        "id": "ydCTSwsTDT2Y"
      },
      "source": [
        "# get an empty dataframe  to append the dict created during analysis \n",
        "\n",
        "\n",
        "sentiment_analysis = pd.DataFrame(columns=['ID', 'Sad', 'Angry', 'Fear', 'Happy', 'Excited', 'Bored', 'negative','neutral','positive' ])"
      ],
      "execution_count": 92,
      "outputs": []
    },
    {
      "cell_type": "code",
      "metadata": {
        "id": "kLG1dgZx_mR9"
      },
      "source": [
        "# gets the sentiment, emotion, and index and converts it into a dict \n",
        "def getFrame(index):\n",
        "  getIndex = {'ID': index  + 1}\n",
        "  emotion, sentiment = getAnalysis(train_data['Text'][index])\n",
        "  temp = Merge(emotion['emotion'], sentiment['sentiment'])\n",
        "  frame = Merge(getIndex, temp)\n",
        "  return frame\n"
      ],
      "execution_count": 86,
      "outputs": []
    },
    {
      "cell_type": "code",
      "metadata": {
        "colab": {
          "base_uri": "https://localhost:8080/"
        },
        "id": "ibgTN-f6GL_Q",
        "outputId": "17baa60a-d18b-4b54-9de4-0a1bc2c6cb1f"
      },
      "source": [
        "# gets only one object \n",
        "my_dict = getFrame(0)\n",
        "\n",
        "print(my_dict)\n",
        "sentiment_analysis = sentiment_analysis.append(my_dict, ignore_index=True)\n",
        "\n",
        "print(sentiment_analysis)"
      ],
      "execution_count": 84,
      "outputs": [
        {
          "output_type": "stream",
          "text": [
            "{'ID': 1, 'Bored': 0.1912157473, 'Angry': 0.3303543902, 'Sad': 0.1977357137, 'Fear': 0.1601284647, 'Excited': 0.0733971939, 'Happy': 0.0471684902, 'negative': 0.83, 'neutral': 0.149, 'positive': 0.021}\n",
            "    ID       Sad     Angry      Fear  ...     Bored  negative  neutral  positive\n",
            "0  1.0  0.197736  0.330354  0.160128  ...  0.191216      0.83    0.149     0.021\n",
            "\n",
            "[1 rows x 10 columns]\n"
          ],
          "name": "stdout"
        }
      ]
    },
    {
      "cell_type": "code",
      "metadata": {
        "id": "OG3P-YSnHwXJ"
      },
      "source": [
        "\n",
        "def runAnalysis(i): \n",
        "  for n in range(i, i+20): \n",
        "    #print(n)\n",
        "    my_dict = getFrame(n)\n",
        "    sentiment_analysis = sentiment_analysis.append(my_dict, ignore_index=True)\n",
        "\n"
      ],
      "execution_count": 104,
      "outputs": []
    },
    {
      "cell_type": "code",
      "metadata": {
        "id": "bzMD5HS8MHET"
      },
      "source": [
        "#Program to runa batch of twenty every minute \n",
        "\n",
        "\n",
        "def getFeaturesDataframe():\n",
        "   \n",
        "   runAnalysis(i)\n",
        "  return \n"
      ],
      "execution_count": null,
      "outputs": []
    },
    {
      "cell_type": "code",
      "metadata": {
        "id": "VhB40hd9fZ9F"
      },
      "source": [
        "def read_features"
      ],
      "execution_count": null,
      "outputs": []
    },
    {
      "cell_type": "code",
      "metadata": {
        "colab": {
          "base_uri": "https://localhost:8080/"
        },
        "id": "KmLLRMAqOFuB",
        "outputId": "8eb538b4-4170-427d-e2fe-cddd8323e11c"
      },
      "source": [
        "%cd SistemasInteligentes/\n",
        "!git pull"
      ],
      "execution_count": 15,
      "outputs": [
        {
          "output_type": "stream",
          "text": [
            "/content/SistemasInteligentes\n",
            "Already up to date.\n"
          ],
          "name": "stdout"
        }
      ]
    },
    {
      "cell_type": "code",
      "metadata": {
        "colab": {
          "base_uri": "https://localhost:8080/"
        },
        "id": "uhQ-niWEaqwJ",
        "outputId": "abbec9e5-e935-4096-c102-c2c535e8efc1"
      },
      "source": [
        "# This part commits the changes \n",
        "\n",
        "uname = \"IsaMaqueda\"\n",
        "!git config --global user.email '$issamqde@gmail.com'\n",
        "!git config --global user.name '$IsaMaqueda'\n",
        "\n",
        "from getpass import getpass\n",
        "password = getpass('Password:')\n",
        "\n",
        "!git add --all\n",
        "!git commit -m 'message'  # commit in Colab\n",
        "!git push origin master          # push to github"
      ],
      "execution_count": 24,
      "outputs": [
        {
          "output_type": "stream",
          "text": [
            "Password:··········\n",
            "On branch main\n",
            "Your branch is up to date with 'origin/main'.\n",
            "\n",
            "nothing to commit, working tree clean\n",
            "error: src refspec master does not match any.\n",
            "error: failed to push some refs to 'https://github.com/IsaMaqueda/SistemasInteligentes.git'\n"
          ],
          "name": "stdout"
        }
      ]
    }
  ]
}